{
 "cells": [
  {
   "cell_type": "code",
   "execution_count": 28,
   "metadata": {},
   "outputs": [],
   "source": [
    "# Dependencies and Setup\n",
    "import matplotlib.pyplot as plt\n",
    "import pandas as pd\n",
    "import numpy as np\n",
    "import requests\n",
    "import time\n",
    "from time import gmtime, strftime \n",
    "from scipy.stats import linregress\n",
    "from pprint import pprint\n",
    "import json\n",
    "import os\n"
   ]
  },
  {
   "cell_type": "code",
   "execution_count": 33,
   "metadata": {},
   "outputs": [
    {
     "data": {
      "text/html": [
       "<div>\n",
       "<style scoped>\n",
       "    .dataframe tbody tr th:only-of-type {\n",
       "        vertical-align: middle;\n",
       "    }\n",
       "\n",
       "    .dataframe tbody tr th {\n",
       "        vertical-align: top;\n",
       "    }\n",
       "\n",
       "    .dataframe thead th {\n",
       "        text-align: right;\n",
       "    }\n",
       "</style>\n",
       "<table border=\"1\" class=\"dataframe\">\n",
       "  <thead>\n",
       "    <tr style=\"text-align: right;\">\n",
       "      <th></th>\n",
       "      <th>Date</th>\n",
       "      <th>Total Cases</th>\n",
       "      <th>Cases Per Million</th>\n",
       "    </tr>\n",
       "  </thead>\n",
       "  <tbody>\n",
       "    <tr>\n",
       "      <th>0</th>\n",
       "      <td>1/30/2020</td>\n",
       "      <td>10270</td>\n",
       "      <td>0.010270</td>\n",
       "    </tr>\n",
       "    <tr>\n",
       "      <th>1</th>\n",
       "      <td>2/28/2020</td>\n",
       "      <td>86575</td>\n",
       "      <td>0.086575</td>\n",
       "    </tr>\n",
       "    <tr>\n",
       "      <th>2</th>\n",
       "      <td>3/31/2020</td>\n",
       "      <td>964975</td>\n",
       "      <td>0.964975</td>\n",
       "    </tr>\n",
       "    <tr>\n",
       "      <th>3</th>\n",
       "      <td>4/30/2020</td>\n",
       "      <td>3482460</td>\n",
       "      <td>3.482460</td>\n",
       "    </tr>\n",
       "    <tr>\n",
       "      <th>4</th>\n",
       "      <td>5/31/2020</td>\n",
       "      <td>6515837</td>\n",
       "      <td>6.515837</td>\n",
       "    </tr>\n",
       "    <tr>\n",
       "      <th>5</th>\n",
       "      <td>6/30/2020</td>\n",
       "      <td>10921520</td>\n",
       "      <td>10.921520</td>\n",
       "    </tr>\n",
       "    <tr>\n",
       "      <th>6</th>\n",
       "      <td>7/30/2020</td>\n",
       "      <td>18215616</td>\n",
       "      <td>18.215620</td>\n",
       "    </tr>\n",
       "    <tr>\n",
       "      <th>7</th>\n",
       "      <td>8/31/2020</td>\n",
       "      <td>26268508</td>\n",
       "      <td>26.268510</td>\n",
       "    </tr>\n",
       "    <tr>\n",
       "      <th>8</th>\n",
       "      <td>9/30/2020</td>\n",
       "      <td>34573463</td>\n",
       "      <td>34.573460</td>\n",
       "    </tr>\n",
       "    <tr>\n",
       "      <th>9</th>\n",
       "      <td>10/31/2020</td>\n",
       "      <td>47167121</td>\n",
       "      <td>47.167120</td>\n",
       "    </tr>\n",
       "    <tr>\n",
       "      <th>10</th>\n",
       "      <td>11/30/2020</td>\n",
       "      <td>64517761</td>\n",
       "      <td>64.517760</td>\n",
       "    </tr>\n",
       "    <tr>\n",
       "      <th>11</th>\n",
       "      <td>12/31/2020</td>\n",
       "      <td>83953903</td>\n",
       "      <td>83.953900</td>\n",
       "    </tr>\n",
       "  </tbody>\n",
       "</table>\n",
       "</div>"
      ],
      "text/plain": [
       "          Date  Total Cases  Cases Per Million\n",
       "0    1/30/2020        10270           0.010270\n",
       "1    2/28/2020        86575           0.086575\n",
       "2    3/31/2020       964975           0.964975\n",
       "3    4/30/2020      3482460           3.482460\n",
       "4    5/31/2020      6515837           6.515837\n",
       "5    6/30/2020     10921520          10.921520\n",
       "6    7/30/2020     18215616          18.215620\n",
       "7    8/31/2020     26268508          26.268510\n",
       "8    9/30/2020     34573463          34.573460\n",
       "9   10/31/2020     47167121          47.167120\n",
       "10  11/30/2020     64517761          64.517760\n",
       "11  12/31/2020     83953903          83.953900"
      ]
     },
     "execution_count": 33,
     "metadata": {},
     "output_type": "execute_result"
    }
   ],
   "source": [
    "path = os.path.join('Resources/Worldometer_Corona_Cases.csv')\n",
    "corona_df=pd.read_csv(path, index_col=False)\n",
    "corona_df"
   ]
  },
  {
   "cell_type": "code",
   "execution_count": null,
   "metadata": {},
   "outputs": [],
   "source": []
  },
  {
   "cell_type": "code",
   "execution_count": 34,
   "metadata": {},
   "outputs": [
    {
     "data": {
      "image/png": "[encoded data removed]",
      "text/plain": [
       "<Figure size 432x288 with 1 Axes>"
      ]
     },
     "metadata": {
      "needs_background": "light"
     },
     "output_type": "display_data"
    }
   ],
   "source": [
    "\n",
    "x_axis_data=corona_df['Date']\n",
    "y_axis_data=corona_df['Cases Per Million']\n",
    "plt.plot(x_axis_data, y_axis_data, color=\"red\")\n",
    "plt.xlabel(\"Date\")\n",
    "plt.ylabel(\"# of Worldwide Corona Virus Cases (Million)\")\n",
    "plt.ylim(0, 90)\n",
    "plt.title(\"# of Worldwide Coronavirus Cases Over Time 2020\")\n",
    "plt.xticks(rotation=90)\n",
    "\n",
    "plt.show()"
   ]
  },
  {
   "cell_type": "code",
   "execution_count": 38,
   "metadata": {},
   "outputs": [
    {
     "ename": "SyntaxError",
     "evalue": "invalid character in identifier (<ipython-input-38-97f3ae5afc55>, line 4)",
     "output_type": "error",
     "traceback": [
      "\u001b[1;36m  File \u001b[1;32m\"<ipython-input-38-97f3ae5afc55>\"\u001b[1;36m, line \u001b[1;32m4\u001b[0m\n\u001b[1;33m    corona_df=’Total Cases Per Mill’\u001b[0m\n\u001b[1;37m                   ^\u001b[0m\n\u001b[1;31mSyntaxError\u001b[0m\u001b[1;31m:\u001b[0m invalid character in identifier\n"
     ]
    }
   ],
   "source": [
    "path = os.path.join('Resources/Worldometer_Corona_Cases1.csv')\n",
    "corona_df=pd.read_csv(path, index_col=False)\n",
    "\n",
    "corona_df=’Total Cases Per Mill’\n",
    "corona_df"
   ]
  },
  {
   "cell_type": "code",
   "execution_count": null,
   "metadata": {},
   "outputs": [],
   "source": []
  },
  {
   "cell_type": "code",
   "execution_count": null,
   "metadata": {},
   "outputs": [],
   "source": []
  }
 ],
 "metadata": {
  "anaconda-cloud": {},
  "kernel_info": {
   "name": "python3"
  },
  "kernelspec": {
   "display_name": "Python 3",
   "language": "python",
   "name": "python3"
  },
  "language_info": {
   "codemirror_mode": {
    "name": "ipython",
    "version": 3
   },
   "file_extension": ".py",
   "mimetype": "text/x-python",
   "name": "python",
   "nbconvert_exporter": "python",
   "pygments_lexer": "ipython3",
   "version": "3.8.3"
  },
  "latex_envs": {
   "LaTeX_envs_menu_present": true,
   "autoclose": false,
   "autocomplete": true,
   "bibliofile": "biblio.bib",
   "cite_by": "apalike",
   "current_citInitial": 1,
   "eqLabelWithNumbers": true,
   "eqNumInitial": 1,
   "hotkeys": {
    "equation": "Ctrl-E",
    "itemize": "Ctrl-I"
   },
   "labels_anchors": false,
   "latex_user_defs": false,
   "report_style_numbering": false,
   "user_envs_cfg": false
  },
  "nteract": {
   "version": "0.8.4"
  }
 },
 "nbformat": 4,
 "nbformat_minor": 1
}
