{
 "cells": [
  {
   "cell_type": "code",
   "execution_count": 2,
   "metadata": {},
   "outputs": [],
   "source": [
    "#importing Libraries\n",
    "\n",
    "import pandas as pd\n",
    "import matplotlib.pyplot as plt\n",
    "import requests\n",
    "import json\n",
    "from pprint import pprint\n",
    "import numpy as np\n",
    "import scipy.stats as st\n",
    "from config import t_api_key\n",
    "# import movie_ids_02_01_2021\n"
   ]
  },
  {
   "cell_type": "code",
   "execution_count": 3,
   "metadata": {},
   "outputs": [],
   "source": [
    "url = 'https://api.themoviedb.org/3/movie/150?api_key=83648896c46a17ea241f266b55635a39'"
   ]
  },
  {
   "cell_type": "code",
   "execution_count": 11,
   "metadata": {},
   "outputs": [
    {
     "data": {
      "text/html": [
       "<div>\n",
       "<style scoped>\n",
       "    .dataframe tbody tr th:only-of-type {\n",
       "        vertical-align: middle;\n",
       "    }\n",
       "\n",
       "    .dataframe tbody tr th {\n",
       "        vertical-align: top;\n",
       "    }\n",
       "\n",
       "    .dataframe thead th {\n",
       "        text-align: right;\n",
       "    }\n",
       "</style>\n",
       "<table border=\"1\" class=\"dataframe\">\n",
       "  <thead>\n",
       "    <tr style=\"text-align: right;\">\n",
       "      <th></th>\n",
       "      <th>adult</th>\n",
       "      <th>id</th>\n",
       "      <th>original_title</th>\n",
       "      <th>popularity</th>\n",
       "      <th>video</th>\n",
       "    </tr>\n",
       "  </thead>\n",
       "  <tbody>\n",
       "    <tr>\n",
       "      <th>0</th>\n",
       "      <td>False</td>\n",
       "      <td>3924</td>\n",
       "      <td>Blondie</td>\n",
       "      <td>1.841</td>\n",
       "      <td>False</td>\n",
       "    </tr>\n",
       "    <tr>\n",
       "      <th>1</th>\n",
       "      <td>False</td>\n",
       "      <td>6124</td>\n",
       "      <td>Der Mann ohne Namen</td>\n",
       "      <td>0.600</td>\n",
       "      <td>False</td>\n",
       "    </tr>\n",
       "    <tr>\n",
       "      <th>2</th>\n",
       "      <td>False</td>\n",
       "      <td>8773</td>\n",
       "      <td>L'amour à vingt ans</td>\n",
       "      <td>2.235</td>\n",
       "      <td>False</td>\n",
       "    </tr>\n",
       "    <tr>\n",
       "      <th>3</th>\n",
       "      <td>False</td>\n",
       "      <td>25449</td>\n",
       "      <td>New World Disorder 9: Never Enough</td>\n",
       "      <td>1.893</td>\n",
       "      <td>False</td>\n",
       "    </tr>\n",
       "    <tr>\n",
       "      <th>4</th>\n",
       "      <td>False</td>\n",
       "      <td>31975</td>\n",
       "      <td>Sesame Street: Elmo Loves You!</td>\n",
       "      <td>0.600</td>\n",
       "      <td>True</td>\n",
       "    </tr>\n",
       "    <tr>\n",
       "      <th>...</th>\n",
       "      <td>...</td>\n",
       "      <td>...</td>\n",
       "      <td>...</td>\n",
       "      <td>...</td>\n",
       "      <td>...</td>\n",
       "    </tr>\n",
       "    <tr>\n",
       "      <th>579117</th>\n",
       "      <td>False</td>\n",
       "      <td>792340</td>\n",
       "      <td>Il commissario Riccirdi - La condanna del sangue</td>\n",
       "      <td>0.000</td>\n",
       "      <td>False</td>\n",
       "    </tr>\n",
       "    <tr>\n",
       "      <th>579118</th>\n",
       "      <td>False</td>\n",
       "      <td>792341</td>\n",
       "      <td>The Alienated</td>\n",
       "      <td>0.000</td>\n",
       "      <td>False</td>\n",
       "    </tr>\n",
       "    <tr>\n",
       "      <th>579119</th>\n",
       "      <td>False</td>\n",
       "      <td>792342</td>\n",
       "      <td>Szelest</td>\n",
       "      <td>0.000</td>\n",
       "      <td>False</td>\n",
       "    </tr>\n",
       "    <tr>\n",
       "      <th>579120</th>\n",
       "      <td>False</td>\n",
       "      <td>792343</td>\n",
       "      <td>Two People He Never Saw</td>\n",
       "      <td>0.000</td>\n",
       "      <td>False</td>\n",
       "    </tr>\n",
       "    <tr>\n",
       "      <th>579121</th>\n",
       "      <td>False</td>\n",
       "      <td>792344</td>\n",
       "      <td>Paw Patrol Mighty Pups</td>\n",
       "      <td>0.000</td>\n",
       "      <td>False</td>\n",
       "    </tr>\n",
       "  </tbody>\n",
       "</table>\n",
       "<p>579122 rows × 5 columns</p>\n",
       "</div>"
      ],
      "text/plain": [
       "        adult      id                                    original_title  \\\n",
       "0       False    3924                                           Blondie   \n",
       "1       False    6124                               Der Mann ohne Namen   \n",
       "2       False    8773                               L'amour à vingt ans   \n",
       "3       False   25449                New World Disorder 9: Never Enough   \n",
       "4       False   31975                    Sesame Street: Elmo Loves You!   \n",
       "...       ...     ...                                               ...   \n",
       "579117  False  792340  Il commissario Riccirdi - La condanna del sangue   \n",
       "579118  False  792341                                     The Alienated   \n",
       "579119  False  792342                                           Szelest   \n",
       "579120  False  792343                           Two People He Never Saw   \n",
       "579121  False  792344                            Paw Patrol Mighty Pups   \n",
       "\n",
       "        popularity  video  \n",
       "0            1.841  False  \n",
       "1            0.600  False  \n",
       "2            2.235  False  \n",
       "3            1.893  False  \n",
       "4            0.600   True  \n",
       "...            ...    ...  \n",
       "579117       0.000  False  \n",
       "579118       0.000  False  \n",
       "579119       0.000  False  \n",
       "579120       0.000  False  \n",
       "579121       0.000  False  \n",
       "\n",
       "[579122 rows x 5 columns]"
      ]
     },
     "execution_count": 11,
     "metadata": {},
     "output_type": "execute_result"
    }
   ],
   "source": [
    "df = pd.read_json('movie_ids_02_01_2021.json',lines = True)\n",
    "df"
   ]
  },
  {
   "cell_type": "code",
   "execution_count": null,
   "metadata": {},
   "outputs": [],
   "source": []
  },
  {
   "cell_type": "code",
   "execution_count": null,
   "metadata": {},
   "outputs": [],
   "source": []
  },
  {
   "cell_type": "code",
   "execution_count": null,
   "metadata": {},
   "outputs": [],
   "source": []
  },
  {
   "cell_type": "code",
   "execution_count": 3,
   "metadata": {},
   "outputs": [
    {
     "data": {
      "text/plain": [
       "<Response [200]>"
      ]
     },
     "execution_count": 3,
     "metadata": {},
     "output_type": "execute_result"
    }
   ],
   "source": [
    "response = requests.get(url)\n",
    "response"
   ]
  },
  {
   "cell_type": "code",
   "execution_count": 4,
   "metadata": {},
   "outputs": [
    {
     "name": "stdout",
     "output_type": "stream",
     "text": [
      "{'adult': False,\n",
      " 'backdrop_path': '/bKPvBwz0BfY9tx3jCWaYCBo3lq4.jpg',\n",
      " 'belongs_to_collection': {'backdrop_path': '/dEoWt93RHoXWb0bKyetX0l25SaM.jpg',\n",
      "                           'id': 93295,\n",
      "                           'name': '48 Hrs. Collection',\n",
      "                           'poster_path': '/8Dlcb8aDch6sUcWBc8zSSfNbPgG.jpg'},\n",
      " 'budget': 12000000,\n",
      " 'genres': [{'id': 53, 'name': 'Thriller'},\n",
      "            {'id': 28, 'name': 'Action'},\n",
      "            {'id': 35, 'name': 'Comedy'},\n",
      "            {'id': 80, 'name': 'Crime'},\n",
      "            {'id': 18, 'name': 'Drama'}],\n",
      " 'homepage': '',\n",
      " 'id': 150,\n",
      " 'imdb_id': 'tt0083511',\n",
      " 'original_language': 'en',\n",
      " 'original_title': '48 Hrs.',\n",
      " 'overview': 'A hard-nosed cop reluctantly teams up with a wise-cracking '\n",
      "             'criminal temporarily paroled to him, in order to track down a '\n",
      "             'killer.',\n",
      " 'popularity': 18.067,\n",
      " 'poster_path': '/phNxblI8gWJxATAGd5G4Nts7GcL.jpg',\n",
      " 'production_companies': [{'id': 4,\n",
      "                           'logo_path': '/fycMZt242LVjagMByZOLUGbCvv3.png',\n",
      "                           'name': 'Paramount',\n",
      "                           'origin_country': 'US'}],\n",
      " 'production_countries': [{'iso_3166_1': 'US',\n",
      "                           'name': 'United States of America'}],\n",
      " 'release_date': '1982-12-07',\n",
      " 'revenue': 78868508,\n",
      " 'runtime': 96,\n",
      " 'spoken_languages': [{'english_name': 'English',\n",
      "                       'iso_639_1': 'en',\n",
      "                       'name': 'English'}],\n",
      " 'status': 'Released',\n",
      " 'tagline': 'One Cop. One Con. No Mercy.',\n",
      " 'title': '48 Hrs.',\n",
      " 'video': False,\n",
      " 'vote_average': 6.7,\n",
      " 'vote_count': 907}\n"
     ]
    }
   ],
   "source": [
    "pprint(response.json())\n",
    "\n",
    "url1 = f'https://api.themoviedb.org/3/movie/{movie_id}?api_key={t_api_key}&language=en-US'\n"
   ]
  },
  {
   "cell_type": "code",
   "execution_count": null,
   "metadata": {},
   "outputs": [],
   "source": []
  }
 ],
 "metadata": {
  "kernelspec": {
   "display_name": "Python 3",
   "language": "python",
   "name": "python3"
  },
  "language_info": {
   "codemirror_mode": {
    "name": "ipython",
    "version": 3
   },
   "file_extension": ".py",
   "mimetype": "text/x-python",
   "name": "python",
   "nbconvert_exporter": "python",
   "pygments_lexer": "ipython3",
   "version": "3.8.5"
  }
 },
 "nbformat": 4,
 "nbformat_minor": 4
}
